{
 "cells": [
  {
   "cell_type": "markdown",
   "id": "cda47247",
   "metadata": {},
   "source": [
    "## 6289 HW4\n",
    "### Shuhan Zhang"
   ]
  },
  {
   "cell_type": "code",
   "execution_count": 1,
   "id": "c59e07c3",
   "metadata": {},
   "outputs": [],
   "source": [
    "from pymagnitude import *\n",
    "file_path = \"/Users/apple/Documents/GWU-Class/sem2-6289dl/GoogleNews-vectors-negative300.magnitude\"\n",
    "vectors = Magnitude(file_path)"
   ]
  },
  {
   "cell_type": "code",
   "execution_count": 2,
   "id": "58d63660",
   "metadata": {},
   "outputs": [
    {
     "data": {
      "text/plain": [
       "0.691454"
      ]
     },
     "execution_count": 2,
     "metadata": {},
     "output_type": "execute_result"
    }
   ],
   "source": [
    "vectors.distance(\"cat\",\"dog\")"
   ]
  },
  {
   "cell_type": "markdown",
   "id": "18756f45",
   "metadata": {},
   "source": [
    "### 1.What is the dimensionality of these word embeddings? Provide an integer answer"
   ]
  },
  {
   "cell_type": "code",
   "execution_count": 3,
   "id": "27a70cf1",
   "metadata": {},
   "outputs": [
    {
     "data": {
      "text/plain": [
       "300"
      ]
     },
     "execution_count": 3,
     "metadata": {},
     "output_type": "execute_result"
    }
   ],
   "source": [
    "vectors.dim"
   ]
  },
  {
   "cell_type": "markdown",
   "id": "9a55d22d",
   "metadata": {},
   "source": [
    "### 2.What are the top-5 most similar words to picnic (not including picnic itself)?"
   ]
  },
  {
   "cell_type": "code",
   "execution_count": 4,
   "id": "b84fbd2b",
   "metadata": {},
   "outputs": [
    {
     "data": {
      "text/plain": [
       "[('picnics', 0.7400875),\n",
       " ('picnic_lunch', 0.72137403),\n",
       " ('Picnic', 0.700534),\n",
       " ('potluck_picnic', 0.66832733),\n",
       " ('picnic_supper', 0.65189123)]"
      ]
     },
     "execution_count": 4,
     "metadata": {},
     "output_type": "execute_result"
    }
   ],
   "source": [
    "vectors.most_similar(\"picnic\", topn = 5)"
   ]
  },
  {
   "cell_type": "markdown",
   "id": "9761b751",
   "metadata": {},
   "source": [
    "### 3.According to the word embeddings, which of these words is not like the others? ['tissue', 'papyrus', 'manila', 'newsprint', 'parchment', 'gazette']"
   ]
  },
  {
   "cell_type": "code",
   "execution_count": 5,
   "id": "249ce961",
   "metadata": {},
   "outputs": [
    {
     "data": {
      "text/plain": [
       "'tissue'"
      ]
     },
     "execution_count": 5,
     "metadata": {},
     "output_type": "execute_result"
    }
   ],
   "source": [
    "vectors.doesnt_match(['tissue', 'papyrus', 'manila', 'newsprint', 'parchment', 'gazette'])"
   ]
  },
  {
   "cell_type": "markdown",
   "id": "7e1622fb",
   "metadata": {},
   "source": [
    "### 4.Solve the following analogy: leg is to jump as X is to throw.\n",
    "The most suitable word is forearm"
   ]
  },
  {
   "cell_type": "code",
   "execution_count": 6,
   "id": "e3e6d2a0",
   "metadata": {},
   "outputs": [
    {
     "data": {
      "text/plain": [
       "[('forearm', 0.48294654),\n",
       " ('shin', 0.47376168),\n",
       " ('elbow', 0.46796894),\n",
       " ('metacarpal_bone', 0.46781474),\n",
       " ('metacarpal_bones', 0.46605822),\n",
       " ('ankle', 0.46434426),\n",
       " ('shoulder', 0.46183357),\n",
       " ('thigh', 0.45393687),\n",
       " ('knee', 0.44557065),\n",
       " ('ulna_bone', 0.4423491)]"
      ]
     },
     "execution_count": 6,
     "metadata": {},
     "output_type": "execute_result"
    }
   ],
   "source": [
    "vectors.most_similar(positive = [\"throw\",\"leg\"], negative = [\"jump\"])"
   ]
  },
  {
   "cell_type": "code",
   "execution_count": null,
   "id": "2b332394",
   "metadata": {},
   "outputs": [],
   "source": []
  }
 ],
 "metadata": {
  "kernelspec": {
   "display_name": "Python 3 (ipykernel)",
   "language": "python",
   "name": "python3"
  },
  "language_info": {
   "codemirror_mode": {
    "name": "ipython",
    "version": 3
   },
   "file_extension": ".py",
   "mimetype": "text/x-python",
   "name": "python",
   "nbconvert_exporter": "python",
   "pygments_lexer": "ipython3",
   "version": "3.9.7"
  }
 },
 "nbformat": 4,
 "nbformat_minor": 5
}
